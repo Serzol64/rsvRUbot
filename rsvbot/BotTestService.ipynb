{
 "cells": [
  {
   "cell_type": "code",
   "execution_count": 1,
   "metadata": {},
   "outputs": [],
   "source": [
    "%run -i 'botTrain.py'"
   ]
  },
  {
   "cell_type": "code",
   "execution_count": 2,
   "metadata": {},
   "outputs": [
    {
     "name": "stdout",
     "output_type": "stream",
     "text": [
      "Части [100/1000], Успехи: 0.0000\n"
     ]
    },
    {
     "name": "stdout",
     "output_type": "stream",
     "text": [
      "Части [200/1000], Успехи: 0.0000\n"
     ]
    },
    {
     "name": "stdout",
     "output_type": "stream",
     "text": [
      "Части [300/1000], Успехи: 0.0000\n"
     ]
    },
    {
     "name": "stdout",
     "output_type": "stream",
     "text": [
      "Части [400/1000], Успехи: 0.0000\n"
     ]
    },
    {
     "name": "stdout",
     "output_type": "stream",
     "text": [
      "Части [500/1000], Успехи: 0.0000\n"
     ]
    },
    {
     "name": "stdout",
     "output_type": "stream",
     "text": [
      "Части [600/1000], Успехи: 0.0000\n"
     ]
    },
    {
     "name": "stdout",
     "output_type": "stream",
     "text": [
      "Части [700/1000], Успехи: 0.0000\n"
     ]
    },
    {
     "name": "stdout",
     "output_type": "stream",
     "text": [
      "Части [800/1000], Успехи: 0.0000\n"
     ]
    },
    {
     "name": "stdout",
     "output_type": "stream",
     "text": [
      "Части [900/1000], Успехи: 0.0000\n"
     ]
    },
    {
     "name": "stdout",
     "output_type": "stream",
     "text": [
      "Части [1000/1000], Успехи: 0.0000\n",
      "Финальный шанс: 0.0000\n",
      "training complete. file saved to botContent/skills/textskill.pth\n"
     ]
    },
    {
     "data": {
      "text/plain": "NeuralNet(\n  (l1): Linear(in_features=23, out_features=8, bias=True)\n  (l2): Linear(in_features=8, out_features=8, bias=True)\n  (l3): Linear(in_features=8, out_features=1, bias=True)\n  (relu): ReLU()\n)"
     },
     "execution_count": 2,
     "metadata": {},
     "output_type": "execute_result"
    }
   ],
   "source": [
    "import random\n",
    "import json\n",
    "\n",
    "import torch\n",
    "import botSkill\n",
    "from botModel import NeuralNet\n",
    "from botUtils import wdBag, token\n",
    "\n",
    "device = torch.device('cuda' if torch.cuda.is_available() else 'cpu')\n",
    "\n",
    "with open('botContent/data/skilld.json', 'r') as json_data:\n",
    "    intents = json.load(json_data)\n",
    "\n",
    "FILE = \"botContent/skills/textskill.pth\"\n",
    "data = torch.load(FILE)\n",
    "\n",
    "input_size = data[\"input_size\"]\n",
    "hidden_size = data[\"hidden_size\"]\n",
    "output_size = data[\"output_size\"]\n",
    "all_words = data['all_words']\n",
    "tags = data['tags']\n",
    "model_state = data[\"model_state\"]\n",
    "\n",
    "model = NeuralNet(input_size, hidden_size, output_size).to(device)\n",
    "model.load_state_dict(model_state)\n",
    "model.eval()"
   ]
  },
  {
   "cell_type": "code",
   "execution_count": 3,
   "metadata": {},
   "outputs": [
    {
     "name": "stdout",
     "output_type": "stream",
     "text": [
      "Добро пожаловать! (type 'quit' to exit)\n"
     ]
    }
   ],
   "source": [
    "bot_name = \"RSVBot\"\n",
    "print(\"Добро пожаловать! (type 'quit' to exit)\")\n",
    "while True:\n",
    "    # sentence = \"do you use credit cards?\"\n",
    "    sentence = input(\"Я: \")\n",
    "    query = f\"Я: {sentence}\"\n",
    "    if sentence == \"quit\":\n",
    "        break\n",
    "\n",
    "    sentence = token(sentence)\n",
    "    X = wdBag(sentence, all_words)\n",
    "    X = X.reshape(1, X.shape[0])\n",
    "    X = torch.from_numpy(X).to(device)\n",
    "\n",
    "    output = model(X)\n",
    "    _, predicted = torch.max(output, dim=1)\n",
    "\n",
    "    tag = tags[predicted.item()]\n",
    "\n",
    "    probs = torch.softmax(output, dim=1)\n",
    "    prob = probs[0][predicted.item()]\n",
    "    if prob.item() > 0.75:\n",
    "        for intent in intents['intents']:\n",
    "            if tag == intent[\"tag\"]:\n",
    "                print(query)\n",
    "\n",
    "                response = random.choice(intent['responses'])\n",
    "                isSkill = re.search('\\[ \\ (.*?) \\ = \\ (.*?) \\]/',response)\n",
    "                isSkillAfterText = re.search('^[a-zA-Zа-яА-Я0-9-_\\.\\,\\!\\?\\№()\\s] ([ \\ (.*?) \\ = \\ (.*?) \\]*$',response)\n",
    "\n",
    "                if isSkill:\n",
    "                    if isSkillAfterText:\n",
    "                        query = re.search('^[a-zA-Zа-яА-Я0-9-_\\.\\,\\!\\?\\№()\\s] ([ \\ (.*?) \\ = \\ (.*?) \\]*$',response).group(1)\n",
    "                        skill = re.search('^[a-zA-Zа-яА-Я0-9-_\\.\\,\\!\\?\\№()\\s] ([ \\ (.*?) \\ = \\ (.*?) \\]*$',response).group(2)\n",
    "                    else:\n",
    "                        skill = re.search('\\[ \\ (.*?) \\ = \\ (.*?) \\]/',response).group(2)\n",
    "\n",
    "                    getSkill = skillBase(skill)\n",
    "\n",
    "                    if query != \"\": \n",
    "                        answer = f\"{query} {getSkill}\"\n",
    "                    else: answer = getSkill\n",
    "\n",
    "                    print(f\"{bot_name}: {answer}\") \n",
    "\n",
    "\n",
    "                else: print(f\"{bot_name}: {response}\")\n",
    "    else:\n",
    "        print(f\"{bot_name}: Я перенаправляю ваш вопрос в службу поддержки\")\n"
   ]
  }
 ],
 "metadata": {
  "kernelspec": {
   "display_name": "Python 3.6.9  ('rsvbot': venv)",
   "name": "pythonjvsc74a57bd085139bc868f5ba20badeb450dc131a2afa0b107e3fb8b21e3ac79aa8e3340e79"
  },
  "language_info": {
   "codemirror_mode": {
    "name": "ipython",
    "version": 3
   },
   "file_extension": ".py",
   "mimetype": "text/x-python",
   "name": "python",
   "nbconvert_exporter": "python",
   "pygments_lexer": "ipython3",
   "version": "3.6.9"
  },
  "metadata": {
   "interpreter": {
    "hash": "85139bc868f5ba20badeb450dc131a2afa0b107e3fb8b21e3ac79aa8e3340e79"
   }
  },
  "orig_nbformat": 2
 },
 "nbformat": 4,
 "nbformat_minor": 2
}